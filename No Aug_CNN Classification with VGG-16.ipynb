{
 "cells": [
  {
   "cell_type": "code",
   "execution_count": null,
   "metadata": {
    "colab": {
     "base_uri": "https://localhost:8080/"
    },
    "id": "S4b9J_bEVbPZ",
    "outputId": "b3846b66-72c6-4b33-85d9-cb638bb6bbcc"
   },
   "outputs": [],
   "source": [
    "# from google.colab import drive\n",
    "# drive.mount('/content/gdrive')"
   ]
  },
  {
   "cell_type": "code",
   "execution_count": null,
   "metadata": {
    "id": "jb0jPqK6Zj8I"
   },
   "outputs": [],
   "source": [
    "# !unzip \\dataset.zip"
   ]
  },
  {
   "cell_type": "code",
   "execution_count": 1,
   "metadata": {
    "colab": {
     "base_uri": "https://localhost:8080/"
    },
    "id": "JrQhjRumicnP",
    "outputId": "998c2b46-978e-4fc1-c064-d1630d4c6f80"
   },
   "outputs": [
    {
     "name": "stdout",
     "output_type": "stream",
     "text": [
      "Panjang train: 2590\n",
      "Panjang validation: 870\n",
      "\n",
      "==== Jumlah data train ====\n",
      "Panjang data train Sirih: 259\n",
      "Panjang data train Peledri: 259\n",
      "Panjang data train Pepaya: 259\n",
      "Panjang data train Pandan: 259\n",
      "Panjang data train Nangka: 259\n",
      "Panjang data train Lidah Buaya: 259\n",
      "Panjang data train Kemangi: 259\n",
      "Panjang data train Jeruk: 259\n",
      "Panjang data train Jambu Biji: 259\n",
      "Panjang data train Belimbing Wuluh: 259\n",
      "\n",
      "\n",
      "==== Jumlah data validation ====\n",
      "Panjang data validation Sirih: 87\n",
      "Panjang data validation Peledri: 87\n",
      "Panjang data validation Pepaya: 87\n",
      "Panjang data validation Pandan: 87\n",
      "Panjang data validation Nangka: 87\n",
      "Panjang data validation Lidah Buaya: 87\n",
      "Panjang data validation Kemangi: 87\n",
      "Panjang data validation Jeruk: 87\n",
      "Panjang data validation Jambu Biji: 87\n",
      "Panjang data validation Belimbing Wuluh: 87\n",
      "\n"
     ]
    }
   ],
   "source": [
    "import os\n",
    "\n",
    "base_dir = \"C:/Users/USER/Downloads/WAHYU JELEK/Kecerdasan Buatan/splitted\"\n",
    "train_dir = os.path.join(base_dir, 'train')\n",
    "val_dir = os.path.join(base_dir, 'val')\n",
    "test_dir = os.path.join(base_dir, 'test')\n",
    "classes = [\"Sirih\",\"Seledri\",\"Pepaya\",\"Pandan\",\"Nangka\",\"Lidah buaya\",\"Kemangi\",\"Jeruk\",\"Jambu biji\",\"Belimbing Wuluh\"]\n",
    "\n",
    "sirih_train_path = os.path.join(train_dir, 'Sirih')\n",
    "seledri_train_path = os.path.join(train_dir, 'Seledri')\n",
    "pepaya_train_path = os.path.join(train_dir, 'Pepaya')\n",
    "pandan_train_path = os.path.join(train_dir, 'Pandan')\n",
    "nangka_train_path = os.path.join(train_dir, 'Nangka')\n",
    "lidahbuaya_train_path = os.path.join(train_dir, 'Lidah buaya')\n",
    "kemangi_train_path = os.path.join(train_dir, 'Kemangi')\n",
    "jeruk_train_path = os.path.join(train_dir, 'Jeruk')\n",
    "jambubiji_train_path = os.path.join(train_dir, 'Jambu biji')\n",
    "belimbingwuluh_train_path = os.path.join(train_dir, 'Belimbing Wuluh')\n",
    "\n",
    "sirih_val_path = os.path.join(val_dir, 'Sirih')\n",
    "seledri_val_path = os.path.join(val_dir, 'Seledri')\n",
    "pepaya_val_path = os.path.join(val_dir, 'Pepaya')\n",
    "pandan_val_path = os.path.join(val_dir, 'Pandan')\n",
    "nangka_val_path = os.path.join(val_dir, 'Nangka')\n",
    "lidahbuaya_val_path = os.path.join(val_dir, 'Lidah buaya')\n",
    "kemangi_val_path = os.path.join(val_dir, 'Kemangi')\n",
    "jeruk_val_path = os.path.join(val_dir, 'Jeruk')\n",
    "jambubiji_val_path = os.path.join(val_dir, 'Jambu biji')\n",
    "belimbingwuluh_val_path = os.path.join(val_dir, 'Belimbing Wuluh')\n",
    "\n",
    "len_sirih_train = len(os.listdir(sirih_train_path))\n",
    "len_seledri_train = len(os.listdir(seledri_train_path))\n",
    "len_pepaya_train = len(os.listdir(pepaya_train_path))\n",
    "len_pandan_train = len(os.listdir(pandan_train_path))\n",
    "len_nangka_train = len(os.listdir(nangka_train_path))\n",
    "len_lidahbuaya_train = len(os.listdir(lidahbuaya_train_path))\n",
    "len_kemangi_train = len(os.listdir(kemangi_train_path))\n",
    "len_jeruk_train = len(os.listdir(jeruk_train_path))\n",
    "len_jambubiji_train = len(os.listdir(jambubiji_train_path))\n",
    "len_belimbingwuluh_train = len(os.listdir(belimbingwuluh_train_path))\n",
    "\n",
    "len_sirih_val = len(os.listdir(sirih_val_path))\n",
    "len_seledri_val = len(os.listdir(seledri_val_path))\n",
    "len_pepaya_val = len(os.listdir(pepaya_val_path))\n",
    "len_pandan_val = len(os.listdir(pandan_val_path))\n",
    "len_nangka_val = len(os.listdir(nangka_val_path))\n",
    "len_lidahbuaya_val = len(os.listdir(lidahbuaya_val_path))\n",
    "len_kemangi_val = len(os.listdir(kemangi_val_path))\n",
    "len_jeruk_val = len(os.listdir(jeruk_val_path))\n",
    "len_jambubiji_val = len(os.listdir(jambubiji_val_path))\n",
    "len_belimbingwuluh_val = len(os.listdir(belimbingwuluh_val_path))\n",
    "\n",
    "print(\"Panjang train:\", str(len_sirih_train + len_seledri_train + len_pepaya_train + len_pandan_train + len_nangka_train + len_lidahbuaya_train + len_kemangi_train + len_jeruk_train + len_jambubiji_train + len_belimbingwuluh_train))\n",
    "print(\"Panjang validation:\", str(len_sirih_val + len_seledri_val + len_pepaya_val + len_pandan_val + len_nangka_val + len_lidahbuaya_val + len_kemangi_val + len_jeruk_val + len_jambubiji_val + len_belimbingwuluh_val))\n",
    "\n",
    "print('''\\n==== Jumlah data train ====\n",
    "Panjang data train Sirih: {}\n",
    "Panjang data train Peledri: {}\n",
    "Panjang data train Pepaya: {}\n",
    "Panjang data train Pandan: {}\n",
    "Panjang data train Nangka: {}\n",
    "Panjang data train Lidah Buaya: {}\n",
    "Panjang data train Kemangi: {}\n",
    "Panjang data train Jeruk: {}\n",
    "Panjang data train Jambu Biji: {}\n",
    "Panjang data train Belimbing Wuluh: {}\n",
    "'''.format(len_sirih_train, len_seledri_train, len_pepaya_train, len_pandan_train, len_nangka_train, len_lidahbuaya_train, len_kemangi_train, len_jeruk_train, len_jambubiji_train, len_belimbingwuluh_train))\n",
    "\n",
    "print('''\\n==== Jumlah data validation ====\n",
    "Panjang data validation Sirih: {}\n",
    "Panjang data validation Peledri: {}\n",
    "Panjang data validation Pepaya: {}\n",
    "Panjang data validation Pandan: {}\n",
    "Panjang data validation Nangka: {}\n",
    "Panjang data validation Lidah Buaya: {}\n",
    "Panjang data validation Kemangi: {}\n",
    "Panjang data validation Jeruk: {}\n",
    "Panjang data validation Jambu Biji: {}\n",
    "Panjang data validation Belimbing Wuluh: {}\n",
    "'''.format(len_sirih_val, len_seledri_val, len_pepaya_val, len_pandan_val, len_nangka_val, len_lidahbuaya_val, len_kemangi_val, len_jeruk_val, len_jambubiji_val, len_belimbingwuluh_val))"
   ]
  },
  {
   "cell_type": "code",
   "execution_count": 2,
   "metadata": {
    "colab": {
     "base_uri": "https://localhost:8080/"
    },
    "id": "WyToCJ0AKTcc",
    "outputId": "bcd1cdf4-facc-45ce-81a7-1e69e23800c7"
   },
   "outputs": [
    {
     "name": "stdout",
     "output_type": "stream",
     "text": [
      "['Sirih10.jpg', 'Sirih100.jpg', 'Sirih102.jpg', 'Sirih104.jpg', 'Sirih105.jpg', 'Sirih106.jpg', 'Sirih107.jpg', 'Sirih108.jpg', 'Sirih109.jpg', 'Sirih11.jpg']\n",
      "['Seledri10.jpg', 'Seledri100.jpg', 'Seledri102.jpg', 'Seledri104.jpg', 'Seledri105.jpg', 'Seledri106.jpg', 'Seledri107.jpg', 'Seledri108.jpg', 'Seledri109.jpg', 'Seledri11.jpg']\n",
      "['Pepaya10.jpg', 'Pepaya100.jpg', 'Pepaya102.jpg', 'Pepaya104.jpg', 'Pepaya105.jpg', 'Pepaya106.jpg', 'Pepaya107.jpg', 'Pepaya108.jpg', 'Pepaya109.jpg', 'Pepaya11.jpg']\n",
      "['Pandan10.jpg', 'Pandan100.jpg', 'Pandan102.jpg', 'Pandan104.jpg', 'Pandan105.jpg', 'Pandan106.jpg', 'Pandan107.jpg', 'Pandan108.jpg', 'Pandan109.jpg', 'Pandan11.jpg']\n",
      "['Nangka10.jpg', 'Nangka100.jpg', 'Nangka102.jpg', 'Nangka104.jpg', 'Nangka105.jpg', 'Nangka106.jpg', 'Nangka107.jpg', 'Nangka108.jpg', 'Nangka109.jpg', 'Nangka11.jpg']\n",
      "['Lidah buaya10.jpg', 'Lidah buaya100.jpg', 'Lidah buaya102.jpg', 'Lidah buaya104.jpg', 'Lidah buaya105.jpg', 'Lidah buaya106.jpg', 'Lidah buaya107.jpg', 'Lidah buaya108.jpg', 'Lidah buaya109.jpg', 'Lidah buaya11.jpg']\n",
      "['Kemangi10.jpg', 'Kemangi100.jpg', 'Kemangi102.jpg', 'Kemangi104.jpg', 'Kemangi105.jpg', 'Kemangi106.jpg', 'Kemangi107.jpg', 'Kemangi108.jpg', 'Kemangi109.jpg', 'Kemangi11.jpg']\n",
      "['Jeruk10.jpg', 'Jeruk100.jpg', 'Jeruk102.jpg', 'Jeruk104.jpg', 'Jeruk105.jpg', 'Jeruk106.jpg', 'Jeruk107.jpg', 'Jeruk108.jpg', 'Jeruk109.jpg', 'Jeruk11.jpg']\n",
      "['Jambu biji10.jpg', 'Jambu biji100.jpg', 'Jambu biji102.jpg', 'Jambu biji104.jpg', 'Jambu biji105.jpg', 'Jambu biji106.jpg', 'Jambu biji107.jpg', 'Jambu biji108.jpg', 'Jambu biji109.jpg', 'Jambu biji11.jpg']\n",
      "['Belimbing Wuluh10.jpg', 'Belimbing Wuluh100.jpg', 'Belimbing Wuluh102.jpg', 'Belimbing Wuluh104.jpg', 'Belimbing Wuluh105.jpg', 'Belimbing Wuluh106.jpg', 'Belimbing Wuluh107.jpg', 'Belimbing Wuluh108.jpg', 'Belimbing Wuluh109.jpg', 'Belimbing Wuluh11.jpg']\n"
     ]
    }
   ],
   "source": [
    "train_sirih_fnames = os.listdir(sirih_train_path)\n",
    "train_seledri_fnames = os.listdir(seledri_train_path)\n",
    "train_pepaya_fnames = os.listdir(pepaya_train_path)\n",
    "train_pandan_fnames = os.listdir(pandan_train_path)\n",
    "train_nangka_fnames = os.listdir(nangka_train_path)\n",
    "train_lidahbuaya_fnames = os.listdir(lidahbuaya_train_path)\n",
    "train_kemangi_fnames = os.listdir(kemangi_train_path)\n",
    "train_jeruk_fnames = os.listdir(jeruk_train_path)\n",
    "train_jambubiji_fnames = os.listdir(jambubiji_train_path)\n",
    "train_belimbingwuluh_fnames = os.listdir(belimbingwuluh_train_path)\n",
    "\n",
    "print(train_sirih_fnames[:10])\n",
    "print(train_seledri_fnames[:10])\n",
    "print(train_pepaya_fnames[:10])\n",
    "print(train_pandan_fnames[:10])\n",
    "print(train_nangka_fnames[:10])\n",
    "print(train_lidahbuaya_fnames[:10])\n",
    "print(train_kemangi_fnames[:10])\n",
    "print(train_jeruk_fnames[:10])\n",
    "print(train_jambubiji_fnames[:10])\n",
    "print(train_belimbingwuluh_fnames[:10])"
   ]
  },
  {
   "cell_type": "code",
   "execution_count": 3,
   "metadata": {
    "id": "tnQbjBoT5qxb"
   },
   "outputs": [],
   "source": [
    "%matplotlib inline\n",
    "\n",
    "import matplotlib.pyplot as plt\n",
    "import matplotlib.image as mpimg\n",
    "\n",
    "nrows = 10\n",
    "ncols = 8\n",
    "\n",
    "pic_index = 0"
   ]
  },
  {
   "cell_type": "code",
   "execution_count": null,
   "metadata": {
    "colab": {
     "base_uri": "https://localhost:8080/",
     "height": 1000
    },
    "id": "RcaLobPMMGI0",
    "outputId": "94071640-64d7-420e-e608-d1e44b810406"
   },
   "outputs": [],
   "source": [
    "fig = plt.gcf()\n",
    "fig.set_size_inches(ncols*3, nrows*3)\n",
    "\n",
    "pic_index += 8\n",
    "\n",
    "next_sirih_pix = [os.path.join(sirih_train_path, fname)\n",
    "                  for fname in train_sirih_fnames[ pic_index-8:pic_index]\n",
    "                 ]\n",
    "next_seledri_pix = [os.path.join(seledri_train_path, fname)\n",
    "                  for fname in train_seledri_fnames[ pic_index-8:pic_index]\n",
    "                 ]\n",
    "next_pepaya_pix = [os.path.join(pepaya_train_path, fname)\n",
    "                    for fname in train_pepaya_fnames[ pic_index-8:pic_index]\n",
    "                  ]\n",
    "next_pandan_pix = [os.path.join(pandan_train_path, fname)\n",
    "                    for fname in train_pandan_fnames[ pic_index-8:pic_index]\n",
    "                  ]\n",
    "next_nangka_pix = [os.path.join(nangka_train_path, fname)\n",
    "                    for fname in train_nangka_fnames[ pic_index-8:pic_index]\n",
    "                  ]\n",
    "next_lidahbuaya_pix = [os.path.join(lidahbuaya_train_path, fname)\n",
    "                    for fname in train_lidahbuaya_fnames[ pic_index-8:pic_index]\n",
    "                  ]\n",
    "next_kemangi_pix = [os.path.join(kemangi_train_path, fname)\n",
    "                    for fname in train_kemangi_fnames[ pic_index-8:pic_index]\n",
    "                  ]\n",
    "next_jeruk_pix = [os.path.join(jeruk_train_path, fname)\n",
    "                    for fname in train_jeruk_fnames[ pic_index-8:pic_index]\n",
    "                  ]\n",
    "next_jambubiji_pix = [os.path.join(jambubiji_train_path, fname)\n",
    "                    for fname in train_jambubiji_fnames[ pic_index-8:pic_index]\n",
    "                  ]\n",
    "next_belimbingwuluh_pix = [os.path.join(belimbingwuluh_train_path, fname)\n",
    "                    for fname in train_belimbingwuluh_fnames[ pic_index-8:pic_index]\n",
    "                  ]\n",
    "\n",
    "print(next_sirih_pix)\n",
    "                \n",
    "for i, img_path in enumerate(next_sirih_pix + next_seledri_pix + next_pepaya_pix + next_pandan_pix + next_nangka_pix + next_lidahbuaya_pix + next_kemangi_pix + next_jeruk_pix + next_jambubiji_pix + next_belimbingwuluh_pix):\n",
    "  sp =  plt.subplot(nrows, ncols, i + 1)\n",
    "  sp.axis('Off')\n",
    "\n",
    "  img = mpimg.imread(img_path)\n",
    "  plt.imshow(img)\n",
    "\n",
    "plt.show()"
   ]
  },
  {
   "cell_type": "code",
   "execution_count": 7,
   "metadata": {},
   "outputs": [
    {
     "name": "stdout",
     "output_type": "stream",
     "text": [
      "Found 2590 images belonging to 10 classes.\n",
      "Found 870 images belonging to 10 classes.\n",
      "Found 40 images belonging to 10 classes.\n"
     ]
    }
   ],
   "source": [
    "import tensorflow as tf\n",
    "from tensorflow.keras.preprocessing.image import ImageDataGenerator\n",
    "\n",
    "train_datagen = ImageDataGenerator(\n",
    "#     rescale = 1./255,\n",
    "#     shear_range = 0.3,\n",
    "#     zoom_range = 0.3,\n",
    "#     rotation_range = 30,\n",
    "#     horizontal_flip = True,\n",
    "#     vertical_flip = True,\n",
    "#     fill_mode = 'nearest',\n",
    ")\n",
    "validation_datagen = ImageDataGenerator(\n",
    "#     rescale = 1./255,\n",
    ")\n",
    "\n",
    "train_generator = train_datagen.flow_from_directory(\n",
    "    train_dir,\n",
    "    target_size = (150,150),\n",
    "    batch_size = 16,\n",
    "    class_mode = 'categorical',\n",
    "    shuffle=True,\n",
    ")\n",
    "\n",
    "validation_generator = validation_datagen.flow_from_directory(\n",
    "    val_dir,\n",
    "    target_size = (150,150),\n",
    "    batch_size = 16,\n",
    "    class_mode = 'categorical',\n",
    "    shuffle = False,\n",
    ")\n",
    "\n",
    "test_datagen = ImageDataGenerator(\n",
    "#     rescale = 1./255,\n",
    ")\n",
    "\n",
    "test_generator = test_datagen.flow_from_directory(\n",
    "    test_dir,\n",
    "    target_size = (150,150),\n",
    "    batch_size = 16,\n",
    "    class_mode = 'categorical',\n",
    "    shuffle = False,\n",
    ")"
   ]
  },
  {
   "cell_type": "code",
   "execution_count": 8,
   "metadata": {
    "id": "3mEg0TS4MxDi"
   },
   "outputs": [],
   "source": [
    "import tensorflow as tf\n",
    "from tensorflow.keras import layers\n",
    "from tensorflow.keras import Model\n",
    "from tensorflow.keras.optimizers import Adam\n",
    "from tensorflow.keras.applications.vgg16 import VGG16\n",
    "from tensorflow.keras.layers import Input, Flatten, Dense, Dropout"
   ]
  },
  {
   "cell_type": "code",
   "execution_count": 9,
   "metadata": {
    "colab": {
     "base_uri": "https://localhost:8080/"
    },
    "id": "cI8gvIk5Qomc",
    "outputId": "66c6e87e-c16c-4f85-aef4-5142b5a78be1"
   },
   "outputs": [
    {
     "data": {
      "text/plain": [
       "<KerasTensor: shape=(None, 4, 4, 512) dtype=float32 (created by layer 'block5_pool')>"
      ]
     },
     "execution_count": 9,
     "metadata": {},
     "output_type": "execute_result"
    }
   ],
   "source": [
    "image_size=[150,150]\n",
    "vgg=VGG16(input_shape=image_size+[3], weights='imagenet', include_top=False)\n",
    "vgg.output"
   ]
  },
  {
   "cell_type": "code",
   "execution_count": 10,
   "metadata": {},
   "outputs": [],
   "source": [
    "x=Flatten()(vgg.output)\n",
    "x=Dense(512, activation='relu')(x)\n",
    "prediction=Dense(10,activation='softmax')(x)"
   ]
  },
  {
   "cell_type": "code",
   "execution_count": 11,
   "metadata": {},
   "outputs": [
    {
     "name": "stdout",
     "output_type": "stream",
     "text": [
      "Model: \"model\"\n",
      "_________________________________________________________________\n",
      " Layer (type)                Output Shape              Param #   \n",
      "=================================================================\n",
      " input_2 (InputLayer)        [(None, 150, 150, 3)]     0         \n",
      "                                                                 \n",
      " block1_conv1 (Conv2D)       (None, 150, 150, 64)      1792      \n",
      "                                                                 \n",
      " block1_conv2 (Conv2D)       (None, 150, 150, 64)      36928     \n",
      "                                                                 \n",
      " block1_pool (MaxPooling2D)  (None, 75, 75, 64)        0         \n",
      "                                                                 \n",
      " block2_conv1 (Conv2D)       (None, 75, 75, 128)       73856     \n",
      "                                                                 \n",
      " block2_conv2 (Conv2D)       (None, 75, 75, 128)       147584    \n",
      "                                                                 \n",
      " block2_pool (MaxPooling2D)  (None, 37, 37, 128)       0         \n",
      "                                                                 \n",
      " block3_conv1 (Conv2D)       (None, 37, 37, 256)       295168    \n",
      "                                                                 \n",
      " block3_conv2 (Conv2D)       (None, 37, 37, 256)       590080    \n",
      "                                                                 \n",
      " block3_conv3 (Conv2D)       (None, 37, 37, 256)       590080    \n",
      "                                                                 \n",
      " block3_pool (MaxPooling2D)  (None, 18, 18, 256)       0         \n",
      "                                                                 \n",
      " block4_conv1 (Conv2D)       (None, 18, 18, 512)       1180160   \n",
      "                                                                 \n",
      " block4_conv2 (Conv2D)       (None, 18, 18, 512)       2359808   \n",
      "                                                                 \n",
      " block4_conv3 (Conv2D)       (None, 18, 18, 512)       2359808   \n",
      "                                                                 \n",
      " block4_pool (MaxPooling2D)  (None, 9, 9, 512)         0         \n",
      "                                                                 \n",
      " block5_conv1 (Conv2D)       (None, 9, 9, 512)         2359808   \n",
      "                                                                 \n",
      " block5_conv2 (Conv2D)       (None, 9, 9, 512)         2359808   \n",
      "                                                                 \n",
      " block5_conv3 (Conv2D)       (None, 9, 9, 512)         2359808   \n",
      "                                                                 \n",
      " block5_pool (MaxPooling2D)  (None, 4, 4, 512)         0         \n",
      "                                                                 \n",
      " flatten_1 (Flatten)         (None, 8192)              0         \n",
      "                                                                 \n",
      " dense_2 (Dense)             (None, 512)               4194816   \n",
      "                                                                 \n",
      " dense_3 (Dense)             (None, 10)                5130      \n",
      "                                                                 \n",
      "=================================================================\n",
      "Total params: 18,914,634\n",
      "Trainable params: 18,914,634\n",
      "Non-trainable params: 0\n",
      "_________________________________________________________________\n"
     ]
    }
   ],
   "source": [
    "model=Model(inputs=vgg.input, outputs=prediction)\n",
    "model.summary()"
   ]
  },
  {
   "cell_type": "code",
   "execution_count": 12,
   "metadata": {
    "id": "E6G8vuXupKme"
   },
   "outputs": [],
   "source": [
    "class myCallback(tf.keras.callbacks.Callback):\n",
    "  def on_epoch_end(self, epoch, logs = {}):\n",
    "    if(logs.get('accuracy') > 0.99):\n",
    "      print('\\nYour model accuration has been reached: 99%')\n",
    "      self.model.stop_training = True\n",
    "\n",
    "callbacks = myCallback()"
   ]
  },
  {
   "cell_type": "code",
   "execution_count": 13,
   "metadata": {
    "id": "1VQtxzE5pKq-"
   },
   "outputs": [],
   "source": [
    "model.compile(loss='categorical_crossentropy',\n",
    "              optimizer=tf.optimizers.SGD(learning_rate=1e-4, momentum=0.9),\n",
    "              metrics=['accuracy'])"
   ]
  },
  {
   "cell_type": "code",
   "execution_count": 14,
   "metadata": {
    "colab": {
     "base_uri": "https://localhost:8080/"
    },
    "id": "YzXg0uZmpbHy",
    "outputId": "b72490b1-5b38-46bc-ed0b-f8dda7be019a"
   },
   "outputs": [
    {
     "name": "stdout",
     "output_type": "stream",
     "text": [
      "Epoch 1/100\n",
      "20/20 [==============================] - 18s 631ms/step - loss: 3.6303 - accuracy: 0.1635 - val_loss: 2.0677 - val_accuracy: 0.3313\n",
      "Epoch 2/100\n",
      "20/20 [==============================] - 9s 460ms/step - loss: 2.0361 - accuracy: 0.2781 - val_loss: 2.4488 - val_accuracy: 0.1312\n",
      "Epoch 3/100\n",
      "20/20 [==============================] - 10s 524ms/step - loss: 1.5593 - accuracy: 0.4344 - val_loss: 1.3671 - val_accuracy: 0.4875\n",
      "Epoch 4/100\n",
      "20/20 [==============================] - 10s 519ms/step - loss: 1.1822 - accuracy: 0.5375 - val_loss: 1.7477 - val_accuracy: 0.4812\n",
      "Epoch 5/100\n",
      "20/20 [==============================] - 11s 526ms/step - loss: 1.0412 - accuracy: 0.5969 - val_loss: 1.8053 - val_accuracy: 0.2875\n",
      "Epoch 6/100\n",
      "20/20 [==============================] - 11s 547ms/step - loss: 0.7733 - accuracy: 0.7469 - val_loss: 1.2580 - val_accuracy: 0.6313\n",
      "Epoch 7/100\n",
      "20/20 [==============================] - 10s 523ms/step - loss: 0.8584 - accuracy: 0.6844 - val_loss: 0.9507 - val_accuracy: 0.6125\n",
      "Epoch 8/100\n",
      "20/20 [==============================] - 10s 526ms/step - loss: 0.7243 - accuracy: 0.7437 - val_loss: 1.8017 - val_accuracy: 0.4750\n",
      "Epoch 9/100\n",
      "20/20 [==============================] - 10s 526ms/step - loss: 0.8097 - accuracy: 0.7219 - val_loss: 0.9500 - val_accuracy: 0.6438\n",
      "Epoch 10/100\n",
      "20/20 [==============================] - 9s 476ms/step - loss: 0.5290 - accuracy: 0.8062 - val_loss: 0.7762 - val_accuracy: 0.6750\n",
      "Epoch 11/100\n",
      "20/20 [==============================] - 10s 484ms/step - loss: 0.5149 - accuracy: 0.8125 - val_loss: 0.4768 - val_accuracy: 0.8313\n",
      "Epoch 12/100\n",
      "20/20 [==============================] - 10s 490ms/step - loss: 0.4258 - accuracy: 0.8625 - val_loss: 0.6408 - val_accuracy: 0.7937\n",
      "Epoch 13/100\n",
      "20/20 [==============================] - 11s 515ms/step - loss: 0.5063 - accuracy: 0.8281 - val_loss: 0.8499 - val_accuracy: 0.6938\n",
      "Epoch 14/100\n",
      "20/20 [==============================] - 9s 445ms/step - loss: 0.4979 - accuracy: 0.8438 - val_loss: 0.7462 - val_accuracy: 0.7188\n",
      "Epoch 15/100\n",
      "20/20 [==============================] - 9s 457ms/step - loss: 0.3651 - accuracy: 0.8750 - val_loss: 0.7142 - val_accuracy: 0.7375\n",
      "Epoch 16/100\n",
      "20/20 [==============================] - 9s 470ms/step - loss: 0.3254 - accuracy: 0.8844 - val_loss: 0.2902 - val_accuracy: 0.8938\n",
      "Epoch 17/100\n",
      "20/20 [==============================] - 10s 479ms/step - loss: 0.3122 - accuracy: 0.9125 - val_loss: 0.2766 - val_accuracy: 0.9062\n",
      "Epoch 18/100\n",
      "20/20 [==============================] - 11s 542ms/step - loss: 0.1957 - accuracy: 0.9344 - val_loss: 0.2860 - val_accuracy: 0.8813\n",
      "Epoch 19/100\n",
      "20/20 [==============================] - 10s 506ms/step - loss: 0.2216 - accuracy: 0.9375 - val_loss: 0.2688 - val_accuracy: 0.9062\n",
      "Epoch 20/100\n",
      "20/20 [==============================] - 9s 457ms/step - loss: 0.1630 - accuracy: 0.9403 - val_loss: 0.6364 - val_accuracy: 0.7812\n",
      "Epoch 21/100\n",
      "20/20 [==============================] - 10s 509ms/step - loss: 0.2712 - accuracy: 0.9156 - val_loss: 0.3920 - val_accuracy: 0.8188\n",
      "Epoch 22/100\n",
      "20/20 [==============================] - 10s 490ms/step - loss: 0.1913 - accuracy: 0.9403 - val_loss: 0.5636 - val_accuracy: 0.7812\n",
      "Epoch 23/100\n",
      "20/20 [==============================] - 11s 533ms/step - loss: 0.1780 - accuracy: 0.9375 - val_loss: 0.3618 - val_accuracy: 0.8687\n",
      "Epoch 24/100\n",
      "20/20 [==============================] - 10s 498ms/step - loss: 0.1257 - accuracy: 0.9469 - val_loss: 0.3508 - val_accuracy: 0.8875\n",
      "Epoch 25/100\n",
      "20/20 [==============================] - 10s 487ms/step - loss: 0.1875 - accuracy: 0.9438 - val_loss: 0.3846 - val_accuracy: 0.8938\n",
      "Epoch 26/100\n",
      "20/20 [==============================] - 10s 506ms/step - loss: 0.1345 - accuracy: 0.9563 - val_loss: 0.1832 - val_accuracy: 0.9563\n",
      "Epoch 27/100\n",
      "20/20 [==============================] - 10s 489ms/step - loss: 0.1070 - accuracy: 0.9656 - val_loss: 0.2795 - val_accuracy: 0.9062\n",
      "Epoch 28/100\n",
      "20/20 [==============================] - 11s 528ms/step - loss: 0.0981 - accuracy: 0.9750 - val_loss: 0.3192 - val_accuracy: 0.8750\n",
      "Epoch 29/100\n",
      "20/20 [==============================] - 10s 508ms/step - loss: 0.1401 - accuracy: 0.9438 - val_loss: 0.4077 - val_accuracy: 0.8313\n",
      "Epoch 30/100\n",
      "20/20 [==============================] - 11s 520ms/step - loss: 0.1539 - accuracy: 0.9469 - val_loss: 0.2016 - val_accuracy: 0.9375\n",
      "Epoch 31/100\n",
      "20/20 [==============================] - 10s 490ms/step - loss: 0.1405 - accuracy: 0.9497 - val_loss: 0.1999 - val_accuracy: 0.9563\n",
      "Epoch 32/100\n",
      "20/20 [==============================] - 10s 488ms/step - loss: 0.1313 - accuracy: 0.9656 - val_loss: 0.2189 - val_accuracy: 0.9125\n",
      "Epoch 33/100\n",
      "20/20 [==============================] - 10s 488ms/step - loss: 0.1879 - accuracy: 0.9465 - val_loss: 0.5691 - val_accuracy: 0.8250\n",
      "Epoch 34/100\n",
      "20/20 [==============================] - 10s 501ms/step - loss: 0.1332 - accuracy: 0.9656 - val_loss: 0.1544 - val_accuracy: 0.9438\n",
      "Epoch 35/100\n",
      "20/20 [==============================] - 10s 458ms/step - loss: 0.1590 - accuracy: 0.9500 - val_loss: 0.1052 - val_accuracy: 0.9688\n",
      "Epoch 36/100\n",
      "20/20 [==============================] - 10s 504ms/step - loss: 0.0824 - accuracy: 0.9811 - val_loss: 0.2013 - val_accuracy: 0.9312\n",
      "Epoch 37/100\n",
      "20/20 [==============================] - 11s 525ms/step - loss: 0.1210 - accuracy: 0.9625 - val_loss: 0.2267 - val_accuracy: 0.9125\n",
      "Epoch 38/100\n",
      "20/20 [==============================] - 10s 497ms/step - loss: 0.1546 - accuracy: 0.9656 - val_loss: 0.1364 - val_accuracy: 0.9625\n",
      "Epoch 39/100\n",
      "20/20 [==============================] - 10s 517ms/step - loss: 0.0793 - accuracy: 0.9750 - val_loss: 0.4289 - val_accuracy: 0.8562\n",
      "Epoch 40/100\n",
      "20/20 [==============================] - 9s 456ms/step - loss: 0.0654 - accuracy: 0.9811 - val_loss: 0.1263 - val_accuracy: 0.9625\n",
      "Epoch 41/100\n",
      "20/20 [==============================] - ETA: 0s - loss: 0.0313 - accuracy: 0.9937\n",
      "Your model accuration has been reached: 99%\n",
      "20/20 [==============================] - 10s 475ms/step - loss: 0.0313 - accuracy: 0.9937 - val_loss: 0.1539 - val_accuracy: 0.9438\n"
     ]
    }
   ],
   "source": [
    "history = model.fit(\n",
    "      train_generator,\n",
    "      steps_per_epoch=20,\n",
    "      epochs=100,\n",
    "      validation_data=validation_generator,\n",
    "      validation_steps=10,\n",
    "      verbose=1,\n",
    "      callbacks = [callbacks],\n",
    ")"
   ]
  },
  {
   "cell_type": "code",
   "execution_count": 15,
   "metadata": {
    "id": "--bVsmY5FUha"
   },
   "outputs": [],
   "source": [
    "model.save('C:/Users/USER/Downloads/WAHYU JELEK/Kecerdasan Buatan/save_model/No_Augmentasi_Model.h5')"
   ]
  },
  {
   "cell_type": "code",
   "execution_count": null,
   "metadata": {
    "id": "aKsNji_1GAFI"
   },
   "outputs": [],
   "source": [
    "from keras.models import load_model\n",
    "\n",
    "model = load_model('C:/Users/USER/Downloads/WAHYU JELEK/Kecerdasan Buatan/save_model/1layer.h5')"
   ]
  },
  {
   "cell_type": "code",
   "execution_count": 19,
   "metadata": {
    "colab": {
     "base_uri": "https://localhost:8080/",
     "height": 235
    },
    "id": "jbJyFp1tqhJt",
    "outputId": "2c984d5a-8f62-44af-8fd0-e5629cd6e7b2"
   },
   "outputs": [
    {
     "data": {
      "image/png": "[encoded data removed]",
      "text/plain": [
       "<Figure size 432x288 with 1 Axes>"
      ]
     },
     "metadata": {},
     "output_type": "display_data"
    },
    {
     "data": {
      "image/png": "[encoded data removed]",
      "text/plain": [
       "<Figure size 432x288 with 1 Axes>"
      ]
     },
     "metadata": {},
     "output_type": "display_data"
    }
   ],
   "source": [
    "acc = history.history['accuracy']\n",
    "val_acc = history.history['val_accuracy']\n",
    "loss = history.history['loss']\n",
    "val_loss = history.history['val_loss']\n",
    "\n",
    "epochs = range(len(acc))\n",
    "\n",
    "plt.plot(epochs, acc, 'b', label='Training accuracy')\n",
    "plt.plot(epochs, val_acc, 'g', label='Validation accuracy')\n",
    "plt.title('Training dan Validation Accuracy')\n",
    "plt.legend(loc=0)\n",
    "plt.figure()\n",
    "\n",
    "plt.plot(epochs, loss, 'b', label='Training loss')\n",
    "plt.plot(epochs, val_loss, 'g', label='Validation loss')\n",
    "plt.title('Training dan validation loss')\n",
    "plt.legend(loc=0)\n",
    "\n",
    "plt.show()"
   ]
  },
  {
   "cell_type": "code",
   "execution_count": 20,
   "metadata": {},
   "outputs": [
    {
     "name": "stdout",
     "output_type": "stream",
     "text": [
      "                 precision    recall  f1-score   support\n",
      "\n",
      "Belimbing Wuluh       1.00      1.00      1.00         4\n",
      "     Jambu biji       0.75      1.00      0.86         3\n",
      "          Jeruk       1.00      0.80      0.89         5\n",
      "        Kemangi       1.00      1.00      1.00         4\n",
      "    Lidah buaya       1.00      1.00      1.00         4\n",
      "         Nangka       1.00      1.00      1.00         4\n",
      "         Pandan       1.00      1.00      1.00         4\n",
      "         Pepaya       1.00      1.00      1.00         4\n",
      "        Seledri       1.00      1.00      1.00         4\n",
      "          Sirih       1.00      1.00      1.00         4\n",
      "\n",
      "       accuracy                           0.97        40\n",
      "      macro avg       0.97      0.98      0.97        40\n",
      "   weighted avg       0.98      0.97      0.98        40\n",
      "\n"
     ]
    }
   ],
   "source": [
    "from sklearn.metrics import classification_report\n",
    "from sklearn.metrics import precision_score, confusion_matrix, classification_report\n",
    "import seaborn as sns\n",
    "import numpy as np\n",
    "\n",
    "sns.set(style='whitegrid')\n",
    "\n",
    "testLab = test_generator.classes\n",
    "pred = model.predict(test_generator)\n",
    "y_pred = np.argmax(pred, axis=-1)\n",
    "class_names = test_generator.class_indices\n",
    "\n",
    "print(classification_report(y_pred, testLab, target_names=class_names))"
   ]
  },
  {
   "cell_type": "code",
   "execution_count": 21,
   "metadata": {},
   "outputs": [
    {
     "data": {
      "image/png": "[encoded data removed]",
      "text/plain": [
       "<Figure size 936x720 with 2 Axes>"
      ]
     },
     "metadata": {},
     "output_type": "display_data"
    }
   ],
   "source": [
    "Cmatrix_test = confusion_matrix(testLab, y_pred)\n",
    "plt.figure(figsize=(13,10))\n",
    "ax = plt.subplot()\n",
    "data = np.asarray(Cmatrix_test).reshape(10,10)\n",
    "sns.heatmap(data, annot=True, fmt='', ax=ax, cmap=plt.cm.Reds)\n",
    "ax.set_xlabel('Predicted labels', fontsize=14)\n",
    "ax.set_ylabel('True labels', fontsize=14)\n",
    "ax.set_title('Confusion Matrix')\n",
    "ax.xaxis.set_ticklabels(class_names)\n",
    "ax.yaxis.set_ticklabels(class_names)\n",
    "plt.title('Confusion Matrix Report', fontsize=18)\n",
    "plt.show()"
   ]
  },
  {
   "cell_type": "code",
   "execution_count": null,
   "metadata": {
    "colab": {
     "base_uri": "https://localhost:8080/",
     "height": 342,
     "resources": {
      "http://localhost:8080/nbextensions/google.colab/files.js": {
       "data": "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",
       "headers": [
        [
         "content-type",
         "application/javascript"
        ]
       ],
       "ok": true,
       "status": 200,
       "status_text": ""
      }
     }
    },
    "id": "Y6Jhmrx9OCdQ",
    "outputId": "ea806423-20b9-4fc5-8aac-2c8e3149d6cb"
   },
   "outputs": [],
   "source": [
    "import numpy as np\n",
    "from keras.preprocessing import image\n",
    "# from google.colab import files\n",
    "\n",
    "path_test = 'C:/Users/USER/Downloads/WAHYU JELEK/Kecerdasan Buatan/splitted/test/Pandan/Pandan269.jpg'\n",
    "\n",
    "# uploaded = files.upload()\n",
    " \n",
    "# for fn in uploaded.keys():\n",
    "#   path = fn\n",
    "img = image.load_img(path_test, target_size=(150,150))\n",
    "imgplot = plt.imshow(img)\n",
    "x = image.img_to_array(img)\n",
    "x = np.expand_dims(x, axis=0)\n",
    "\n",
    "images = np.vstack([x])\n",
    "classes = model.predict(images, batch_size=10)\n",
    "\n",
    "class_list = os.listdir(train_dir)\n",
    "\n",
    "if classes[0][0]:\n",
    "    prediction=\"Belimbing Wuluh\"\n",
    "elif classes[0][1]:\n",
    "    prediction=\"Jambu Biji\"\n",
    "elif classes[0][2]:\n",
    "    prediction=\"Jeruk\"\n",
    "elif classes[0][3]:\n",
    "    prediction=\"Kemangi\"\n",
    "elif classes[0][4]:\n",
    "    prediction=\"Lidah Buaya\"\n",
    "elif classes[0][5]:\n",
    "    prediction=\"Nangka\"\n",
    "elif classes[0][6]:\n",
    "    prediction=\"Pandan\"\n",
    "elif classes[0][7]:\n",
    "    prediction=\"Pepaya\"\n",
    "elif classes[0][8]:\n",
    "    prediction=\"Seledri\"\n",
    "elif classes[0][9]:\n",
    "    prediction=\"Sirih\"\n",
    "else:\n",
    "    prediction=\"[Undefined]\"\n",
    "print(prediction)"
   ]
  },
  {
   "cell_type": "code",
   "execution_count": null,
   "metadata": {},
   "outputs": [],
   "source": []
  }
 ],
 "metadata": {
  "accelerator": "GPU",
  "colab": {
   "collapsed_sections": [],
   "name": "Augmentasi_FINAL_[TUBES_AI]_Wahyu_385_Bella_400.ipynb",
   "provenance": []
  },
  "kernelspec": {
   "display_name": "Python 3",
   "language": "python",
   "name": "python3"
  },
  "language_info": {
   "codemirror_mode": {
    "name": "ipython",
    "version": 3
   },
   "file_extension": ".py",
   "mimetype": "text/x-python",
   "name": "python",
   "nbconvert_exporter": "python",
   "pygments_lexer": "ipython3",
   "version": "3.8.5"
  }
 },
 "nbformat": 4,
 "nbformat_minor": 1
}
