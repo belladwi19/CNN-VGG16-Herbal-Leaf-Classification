{
  "nbformat": 4,
  "nbformat_minor": 0,
  "metadata": {
    "colab": {
      "name": "[TUBES AI] Wahyu 385_Bella 400.ipynb",
      "provenance": [],
      "collapsed_sections": [],
      "authorship_tag": "ABX9TyO7elEyKvzerWKm4HAwYP+r",
      "include_colab_link": true
    },
    "kernelspec": {
      "name": "python3",
      "display_name": "Python 3"
    },
    "language_info": {
      "name": "python"
    }
  },
  "cells": [
    {
      "cell_type": "markdown",
      "metadata": {
        "id": "view-in-github",
        "colab_type": "text"
      },
      "source": [
        "<a href=\"https://colab.research.google.com/github/wahyubudii/Leaf-Classification-Using-CNN/blob/main/%5BTUBES_AI%5D_Wahyu_385_Bella_400.ipynb\" target=\"_parent\"><img src=\"https://colab.research.google.com/assets/colab-badge.svg\" alt=\"Open In Colab\"/></a>"
      ]
    },
    {
      "cell_type": "code",
      "execution_count": null,
      "metadata": {
        "colab": {
          "base_uri": "https://localhost:8080/"
        },
        "id": "S4b9J_bEVbPZ",
        "outputId": "06b99477-1ca7-415f-d04b-3ab27cfcbf87"
      },
      "outputs": [
        {
          "output_type": "stream",
          "name": "stdout",
          "text": [
            "Mounted at /content/gdrive\n"
          ]
        }
      ],
      "source": [
        "from google.colab import drive\n",
        "drive.mount('/content/gdrive')"
      ]
    },
    {
      "cell_type": "code",
      "source": [
        "%cd /content/gdrive/MyDrive/Colab Notebooks/Kecerdasan Buatan/"
      ],
      "metadata": {
        "colab": {
          "base_uri": "https://localhost:8080/"
        },
        "id": "UFTEr-CsV7VI",
        "outputId": "111d5048-bd1f-4972-e9a3-8aa8cbe090a6"
      },
      "execution_count": null,
      "outputs": [
        {
          "output_type": "stream",
          "name": "stdout",
          "text": [
            "/content/gdrive/MyDrive/Colab Notebooks/Kecerdasan Buatan\n"
          ]
        }
      ]
    },
    {
      "cell_type": "code",
      "source": [
        "!unzip \\dataset.zip"
      ],
      "metadata": {
        "id": "jb0jPqK6Zj8I"
      },
      "execution_count": null,
      "outputs": []
    },
    {
      "cell_type": "code",
      "source": [
        "import os\n",
        "\n",
        "base_dir = \"/content/gdrive/MyDrive/Colab Notebooks/Kecerdasan Buatan/splitted/\"\n",
        "train_dir = os.path.join(base_dir, 'train')\n",
        "val_dir = os.path.join(base_dir, 'val')\n",
        "classes = [\"Sirih\",\"Seledri\",\"Pepaya\",\"Pandan\",\"Nangka\",\"Lidah buaya\",\"Kemangi\",\"Jeruk\",\"Jambu biji\",\"Belimbing Wuluh\"]\n",
        "\n",
        "sirih_train_path = os.path.join(train_dir, 'Sirih')\n",
        "seledri_train_path = os.path.join(train_dir, 'Seledri')\n",
        "pepaya_train_path = os.path.join(train_dir, 'Pepaya')\n",
        "pandan_train_path = os.path.join(train_dir, 'Pandan')\n",
        "nangka_train_path = os.path.join(train_dir, 'Nangka')\n",
        "lidahbuaya_train_path = os.path.join(train_dir, 'Lidah buaya')\n",
        "kemangi_train_path = os.path.join(train_dir, 'Kemangi')\n",
        "jeruk_train_path = os.path.join(train_dir, 'Jeruk')\n",
        "jambubiji_train_path = os.path.join(train_dir, 'Jambu biji')\n",
        "belimbingwuluh_train_path = os.path.join(train_dir, 'Belimbing Wuluh')\n",
        "\n",
        "sirih_val_path = os.path.join(val_dir, 'Sirih')\n",
        "seledri_val_path = os.path.join(val_dir, 'Seledri')\n",
        "pepaya_val_path = os.path.join(val_dir, 'Pepaya')\n",
        "pandan_val_path = os.path.join(val_dir, 'Pandan')\n",
        "nangka_val_path = os.path.join(val_dir, 'Nangka')\n",
        "lidahbuaya_val_path = os.path.join(val_dir, 'Lidah buaya')\n",
        "kemangi_val_path = os.path.join(val_dir, 'Kemangi')\n",
        "jeruk_val_path = os.path.join(val_dir, 'Jeruk')\n",
        "jambubiji_val_path = os.path.join(val_dir, 'Jambu biji')\n",
        "belimbingwuluh_val_path = os.path.join(val_dir, 'Belimbing Wuluh')\n",
        "\n",
        "len_sirih_train = len(os.listdir(sirih_train_path))\n",
        "len_seledri_train = len(os.listdir(seledri_train_path))\n",
        "len_pepaya_train = len(os.listdir(pepaya_train_path))\n",
        "len_pandan_train = len(os.listdir(pandan_train_path))\n",
        "len_nangka_train = len(os.listdir(nangka_train_path))\n",
        "len_lidahbuaya_train = len(os.listdir(lidahbuaya_train_path))\n",
        "len_kemangi_train = len(os.listdir(kemangi_train_path))\n",
        "len_jeruk_train = len(os.listdir(jeruk_train_path))\n",
        "len_jambubiji_train = len(os.listdir(jambubiji_train_path))\n",
        "len_belimbingwuluh_train = len(os.listdir(belimbingwuluh_train_path))\n",
        "\n",
        "len_sirih_val = len(os.listdir(sirih_val_path))\n",
        "len_seledri_val = len(os.listdir(seledri_val_path))\n",
        "len_pepaya_val = len(os.listdir(pepaya_val_path))\n",
        "len_pandan_val = len(os.listdir(pandan_val_path))\n",
        "len_nangka_val = len(os.listdir(nangka_val_path))\n",
        "len_lidahbuaya_val = len(os.listdir(lidahbuaya_val_path))\n",
        "len_kemangi_val = len(os.listdir(kemangi_val_path))\n",
        "len_jeruk_val = len(os.listdir(jeruk_val_path))\n",
        "len_jambubiji_val = len(os.listdir(jambubiji_val_path))\n",
        "len_belimbingwuluh_val = len(os.listdir(belimbingwuluh_val_path))\n",
        "\n",
        "print(\"Panjang train:\", str(len_sirih_train + len_seledri_train + len_pepaya_train + len_pandan_train + len_nangka_train + len_lidahbuaya_train + len_kemangi_train + len_jeruk_train + len_jambubiji_train + len_belimbingwuluh_train))\n",
        "print(\"Panjang validation:\", str(len_sirih_val + len_seledri_val + len_pepaya_val + len_pandan_val + len_nangka_val + len_lidahbuaya_val + len_kemangi_val + len_jeruk_val + len_jambubiji_val + len_belimbingwuluh_val))\n",
        "\n",
        "print('''\\n==== Jumlah data train ====\n",
        "Panjang data train Sirih: {}\n",
        "Panjang data train Peledri: {}\n",
        "Panjang data train Pepaya: {}\n",
        "Panjang data train Pandan: {}\n",
        "Panjang data train Nangka: {}\n",
        "Panjang data train Lidah Buaya: {}\n",
        "Panjang data train Kemangi: {}\n",
        "Panjang data train Jeruk: {}\n",
        "Panjang data train Jambu Biji: {}\n",
        "Panjang data train Belimbing Wuluh: {}\n",
        "'''.format(len_sirih_train, len_seledri_train, len_pepaya_train, len_pandan_train, len_nangka_train, len_lidahbuaya_train, len_kemangi_train, len_jeruk_train, len_jambubiji_train, len_belimbingwuluh_train))\n",
        "\n",
        "print('''\\n==== Jumlah data validation ====\n",
        "Panjang data validation Sirih: {}\n",
        "Panjang data validation Peledri: {}\n",
        "Panjang data validation Pepaya: {}\n",
        "Panjang data validation Pandan: {}\n",
        "Panjang data validation Nangka: {}\n",
        "Panjang data validation Lidah Buaya: {}\n",
        "Panjang data validation Kemangi: {}\n",
        "Panjang data validation Jeruk: {}\n",
        "Panjang data validation Jambu Biji: {}\n",
        "Panjang data validation Belimbing Wuluh: {}\n",
        "'''.format(len_sirih_val, len_seledri_val, len_pepaya_val, len_pandan_val, len_nangka_val, len_lidahbuaya_val, len_kemangi_val, len_jeruk_val, len_jambubiji_val, len_belimbingwuluh_val))"
      ],
      "metadata": {
        "colab": {
          "base_uri": "https://localhost:8080/"
        },
        "id": "JrQhjRumicnP",
        "outputId": "29125700-bd21-4232-ff18-79bb85e07f54"
      },
      "execution_count": null,
      "outputs": [
        {
          "output_type": "stream",
          "name": "stdout",
          "text": [
            "Panjang train: 2590\n",
            "Panjang validation: 870\n",
            "\n",
            "==== Jumlah data train ====\n",
            "Panjang data train Sirih: 259\n",
            "Panjang data train Peledri: 259\n",
            "Panjang data train Pepaya: 259\n",
            "Panjang data train Pandan: 259\n",
            "Panjang data train Nangka: 259\n",
            "Panjang data train Lidah Buaya: 259\n",
            "Panjang data train Kemangi: 259\n",
            "Panjang data train Jeruk: 259\n",
            "Panjang data train Jambu Biji: 259\n",
            "Panjang data train Belimbing Wuluh: 259\n",
            "\n",
            "\n",
            "==== Jumlah data validation ====\n",
            "Panjang data validation Sirih: 87\n",
            "Panjang data validation Peledri: 87\n",
            "Panjang data validation Pepaya: 87\n",
            "Panjang data validation Pandan: 87\n",
            "Panjang data validation Nangka: 87\n",
            "Panjang data validation Lidah Buaya: 87\n",
            "Panjang data validation Kemangi: 87\n",
            "Panjang data validation Jeruk: 87\n",
            "Panjang data validation Jambu Biji: 87\n",
            "Panjang data validation Belimbing Wuluh: 87\n",
            "\n"
          ]
        }
      ]
    },
    {
      "cell_type": "code",
      "source": [
        ""
      ],
      "metadata": {
        "id": "tnQbjBoT5qxb"
      },
      "execution_count": null,
      "outputs": []
    },
    {
      "cell_type": "code",
      "source": [
        ""
      ],
      "metadata": {
        "id": "n4L6gaTUj_yd"
      },
      "execution_count": null,
      "outputs": []
    }
  ]
}